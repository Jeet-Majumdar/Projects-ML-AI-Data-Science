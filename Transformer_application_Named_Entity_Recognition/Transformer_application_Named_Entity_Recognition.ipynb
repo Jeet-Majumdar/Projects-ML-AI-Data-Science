{
  "cells": [
    {
      "cell_type": "markdown",
      "metadata": {
        "id": "BMbquUlgI2lj"
      },
      "source": [
        "# Transformer Network Application: Named-Entity Recognition\n",
        "\n",
        "* Use tokenizers and pre-trained models from the HuggingFace Library.\n",
        "* Fine-tune a pre-trained transformer model for Named-Entity Recognition"
      ]
    },
    {
      "cell_type": "markdown",
      "metadata": {
        "id": "o7YtUwZEI2lm"
      },
      "source": [
        "## Table of Contents\n",
        "\n",
        "- [Packages](#0)\n",
        "- [1 - Named-Entity Recogniton to Process Resumes](#1)\n",
        "    - [1.1 - Data Cleaning](#1-1)\n",
        "    - [1.2 - Padding and Generating Tags](#1-2)\n",
        "    - [1.3 - Tokenize and Align Labels with Library](#1-3)\n",
        "        - [Tokenize_and_align_labels](#ex-1)\n",
        "    - [1.4 - Optimization](#1-4)"
      ]
    },
    {
      "cell_type": "markdown",
      "metadata": {
        "id": "E7Wsn6ZzI2lm"
      },
      "source": [
        "<a name='0'></a>\n",
        "## Packages"
      ]
    },
    {
      "cell_type": "code",
      "execution_count": 1,
      "metadata": {
        "id": "0LoYfSasI2ln"
      },
      "outputs": [],
      "source": [
        "import pandas as pd\n",
        "import numpy as np\n",
        "import tensorflow as tf\n",
        "import json\n",
        "import random\n",
        "import logging\n",
        "import re\n",
        "\n",
        "tf.get_logger().setLevel('ERROR')"
      ]
    },
    {
      "cell_type": "markdown",
      "metadata": {
        "id": "l89K__yrI2ln"
      },
      "source": [
        "<a name='1'></a>\n",
        "## 1 - Named-Entity Recogniton to Process Resumes\n",
        "\n",
        "When faced with a large amount of unstructured text data, named-entity recognition (NER) can help you detect and classify important information in your dataset. For instance, in the running example \"Jane vists Africa in September\", NER would help you detect \"Jane\", \"Africa\", and \"September\" as named-entities and classify them as person, location, and time.\n",
        "\n",
        "* You will use a variation of the Transformer model you built in the last assignment to process a large dataset of resumes.\n",
        "* You will find and classify relavent information such as the companies the applicant worked at, skills, type of degree, etc."
      ]
    },
    {
      "cell_type": "markdown",
      "metadata": {
        "id": "MBryJt37I2lo"
      },
      "source": [
        "<a name='1-1'></a>\n",
        "### 1.1 - Dataset Cleaning\n",
        "\n",
        "In this assignment you will optimize a Transformer model on a dataset of resumes. Take a look at how the data you will be working with are structured."
      ]
    },
    {
      "cell_type": "code",
      "execution_count": 2,
      "metadata": {
        "id": "NQwKuMndI2lo"
      },
      "outputs": [],
      "source": [
        "df_data = pd.read_json(\"ner.json\", lines=True)\n",
        "df_data = df_data.drop(['extras'], axis=1)\n",
        "df_data['content'] = df_data['content'].str.replace(\"\\n\", \" \")"
      ]
    },
    {
      "cell_type": "code",
      "execution_count": null,
      "metadata": {
        "id": "oOLjYUTKI2lo",
        "outputId": "f1ea2434-22b7-4e39-8d00-18c2b82dcabc"
      },
      "outputs": [
        {
          "data": {
            "text/html": [
              "<div>\n",
              "<style scoped>\n",
              "    .dataframe tbody tr th:only-of-type {\n",
              "        vertical-align: middle;\n",
              "    }\n",
              "\n",
              "    .dataframe tbody tr th {\n",
              "        vertical-align: top;\n",
              "    }\n",
              "\n",
              "    .dataframe thead th {\n",
              "        text-align: right;\n",
              "    }\n",
              "</style>\n",
              "<table border=\"1\" class=\"dataframe\">\n",
              "  <thead>\n",
              "    <tr style=\"text-align: right;\">\n",
              "      <th></th>\n",
              "      <th>content</th>\n",
              "      <th>annotation</th>\n",
              "    </tr>\n",
              "  </thead>\n",
              "  <tbody>\n",
              "    <tr>\n",
              "      <th>0</th>\n",
              "      <td>Abhishek Jha Application Development Associate...</td>\n",
              "      <td>[{'label': ['Skills'], 'points': [{'start': 12...</td>\n",
              "    </tr>\n",
              "    <tr>\n",
              "      <th>1</th>\n",
              "      <td>Afreen Jamadar Active member of IIIT Committee...</td>\n",
              "      <td>[{'label': ['Email Address'], 'points': [{'sta...</td>\n",
              "    </tr>\n",
              "    <tr>\n",
              "      <th>2</th>\n",
              "      <td>Akhil Yadav Polemaina Hyderabad, Telangana - E...</td>\n",
              "      <td>[{'label': ['Skills'], 'points': [{'start': 37...</td>\n",
              "    </tr>\n",
              "    <tr>\n",
              "      <th>3</th>\n",
              "      <td>Alok Khandai Operational Analyst (SQL DBA) Eng...</td>\n",
              "      <td>[{'label': ['Skills'], 'points': [{'start': 80...</td>\n",
              "    </tr>\n",
              "    <tr>\n",
              "      <th>4</th>\n",
              "      <td>Ananya Chavan lecturer - oracle tutorials  Mum...</td>\n",
              "      <td>[{'label': ['Degree'], 'points': [{'start': 20...</td>\n",
              "    </tr>\n",
              "  </tbody>\n",
              "</table>\n",
              "</div>"
            ],
            "text/plain": [
              "                                             content  \\\n",
              "0  Abhishek Jha Application Development Associate...   \n",
              "1  Afreen Jamadar Active member of IIIT Committee...   \n",
              "2  Akhil Yadav Polemaina Hyderabad, Telangana - E...   \n",
              "3  Alok Khandai Operational Analyst (SQL DBA) Eng...   \n",
              "4  Ananya Chavan lecturer - oracle tutorials  Mum...   \n",
              "\n",
              "                                          annotation  \n",
              "0  [{'label': ['Skills'], 'points': [{'start': 12...  \n",
              "1  [{'label': ['Email Address'], 'points': [{'sta...  \n",
              "2  [{'label': ['Skills'], 'points': [{'start': 37...  \n",
              "3  [{'label': ['Skills'], 'points': [{'start': 80...  \n",
              "4  [{'label': ['Degree'], 'points': [{'start': 20...  "
            ]
          },
          "execution_count": 6,
          "metadata": {},
          "output_type": "execute_result"
        }
      ],
      "source": [
        "df_data.head()"
      ]
    },
    {
      "cell_type": "code",
      "execution_count": 3,
      "metadata": {
        "colab": {
          "base_uri": "https://localhost:8080/"
        },
        "id": "W5h9-F8GI2lp",
        "outputId": "95aedf35-e460-4e88-a8d9-2cf9b21b4114"
      },
      "outputs": [
        {
          "output_type": "execute_result",
          "data": {
            "text/plain": [
              "[{'label': ['Skills'],\n",
              "  'points': [{'start': 1295,\n",
              "    'end': 1621,\n",
              "    'text': '\\n• Programming language: C, C++, Java\\n• Oracle PeopleSoft\\n• Internet Of Things\\n• Machine Learning\\n• Database Management System\\n• Computer Networks\\n• Operating System worked on: Linux, Windows, Mac\\n\\nNon - Technical Skills\\n\\n• Honest and Hard-Working\\n• Tolerant and Flexible to Different Situations\\n• Polite and Calm\\n• Team-Player'}]},\n",
              " {'label': ['Skills'],\n",
              "  'points': [{'start': 993,\n",
              "    'end': 1153,\n",
              "    'text': 'C (Less than 1 year), Database (Less than 1 year), Database Management (Less than 1 year),\\nDatabase Management System (Less than 1 year), Java (Less than 1 year)'}]},\n",
              " {'label': ['College Name'],\n",
              "  'points': [{'start': 939, 'end': 956, 'text': 'Kendriya Vidyalaya'}]},\n",
              " {'label': ['College Name'],\n",
              "  'points': [{'start': 883, 'end': 904, 'text': 'Woodbine modern school'}]},\n",
              " {'label': ['Graduation Year'],\n",
              "  'points': [{'start': 856, 'end': 860, 'text': '2017\\n'}]},\n",
              " {'label': ['College Name'],\n",
              "  'points': [{'start': 771,\n",
              "    'end': 813,\n",
              "    'text': 'B.v.b college of engineering and technology'}]},\n",
              " {'label': ['Designation'],\n",
              "  'points': [{'start': 727,\n",
              "    'end': 769,\n",
              "    'text': 'B.E in Information science and engineering\\n'}]},\n",
              " {'label': ['Companies worked at'],\n",
              "  'points': [{'start': 407, 'end': 415, 'text': 'Accenture'}]},\n",
              " {'label': ['Designation'],\n",
              "  'points': [{'start': 372,\n",
              "    'end': 404,\n",
              "    'text': 'Application Development Associate'}]},\n",
              " {'label': ['Email Address'],\n",
              "  'points': [{'start': 95,\n",
              "    'end': 145,\n",
              "    'text': 'Indeed: indeed.com/r/Abhishek-Jha/10e7a8cb732bc43a\\n'}]},\n",
              " {'label': ['Location'],\n",
              "  'points': [{'start': 60, 'end': 68, 'text': 'Bengaluru'}]},\n",
              " {'label': ['Companies worked at'],\n",
              "  'points': [{'start': 49, 'end': 57, 'text': 'Accenture'}]},\n",
              " {'label': ['Designation'],\n",
              "  'points': [{'start': 13,\n",
              "    'end': 45,\n",
              "    'text': 'Application Development Associate'}]},\n",
              " {'label': ['Name'],\n",
              "  'points': [{'start': 0, 'end': 11, 'text': 'Abhishek Jha'}]}]"
            ]
          },
          "metadata": {},
          "execution_count": 3
        }
      ],
      "source": [
        "df_data.iloc[0]['annotation']"
      ]
    },
    {
      "cell_type": "code",
      "execution_count": 4,
      "metadata": {
        "id": "DFa8jKHzI2lq"
      },
      "outputs": [],
      "source": [
        "def mergeIntervals(intervals):\n",
        "    sorted_by_lower_bound = sorted(intervals, key=lambda tup: tup[0])\n",
        "    merged = []\n",
        "\n",
        "    for higher in sorted_by_lower_bound:\n",
        "        if not merged:\n",
        "            merged.append(higher)\n",
        "        else:\n",
        "            lower = merged[-1]\n",
        "            if higher[0] <= lower[1]:\n",
        "                if lower[2] is higher[2]:\n",
        "                    upper_bound = max(lower[1], higher[1])\n",
        "                    merged[-1] = (lower[0], upper_bound, lower[2])\n",
        "                else:\n",
        "                    if lower[1] > higher[1]:\n",
        "                        merged[-1] = lower\n",
        "                    else:\n",
        "                        merged[-1] = (lower[0], higher[1], higher[2])\n",
        "            else:\n",
        "                merged.append(higher)\n",
        "    return merged"
      ]
    },
    {
      "cell_type": "code",
      "execution_count": 5,
      "metadata": {
        "id": "MQalpF5_I2lq"
      },
      "outputs": [],
      "source": [
        "def get_entities(df):\n",
        "\n",
        "    entities = []\n",
        "\n",
        "    for i in range(len(df)):\n",
        "        entity = []\n",
        "\n",
        "        for annot in df['annotation'][i]:\n",
        "            try:\n",
        "                ent = annot['label'][0]\n",
        "                start = annot['points'][0]['start']\n",
        "                end = annot['points'][0]['end'] + 1\n",
        "                entity.append((start, end, ent))\n",
        "            except:\n",
        "                pass\n",
        "\n",
        "        entity = mergeIntervals(entity)\n",
        "        entities.append(entity)\n",
        "\n",
        "    return entities"
      ]
    },
    {
      "cell_type": "code",
      "execution_count": 6,
      "metadata": {
        "colab": {
          "base_uri": "https://localhost:8080/",
          "height": 206
        },
        "id": "dTKnM-rEI2lr",
        "outputId": "fc8dc980-b845-4756-a2f8-7010d2db6bd7"
      },
      "outputs": [
        {
          "output_type": "execute_result",
          "data": {
            "text/plain": [
              "                                             content  \\\n",
              "0  Abhishek Jha Application Development Associate...   \n",
              "1  Afreen Jamadar Active member of IIIT Committee...   \n",
              "2  Akhil Yadav Polemaina Hyderabad, Telangana - E...   \n",
              "3  Alok Khandai Operational Analyst (SQL DBA) Eng...   \n",
              "4  Ananya Chavan lecturer - oracle tutorials  Mum...   \n",
              "\n",
              "                                          annotation  \\\n",
              "0  [{'label': ['Skills'], 'points': [{'start': 12...   \n",
              "1  [{'label': ['Email Address'], 'points': [{'sta...   \n",
              "2  [{'label': ['Skills'], 'points': [{'start': 37...   \n",
              "3  [{'label': ['Skills'], 'points': [{'start': 80...   \n",
              "4  [{'label': ['Degree'], 'points': [{'start': 20...   \n",
              "\n",
              "                                            entities  \n",
              "0  [(0, 12, Name), (13, 46, Designation), (49, 58...  \n",
              "1  [(0, 14, Name), (62, 68, Location), (104, 148,...  \n",
              "2  [(0, 21, Name), (22, 31, Location), (65, 117, ...  \n",
              "3  [(0, 12, Name), (13, 51, Designation), (54, 60...  \n",
              "4  [(0, 13, Name), (14, 22, Designation), (24, 41...  "
            ],
            "text/html": [
              "\n",
              "  <div id=\"df-d980bde3-f618-4e9f-b38e-7395711f9c2c\" class=\"colab-df-container\">\n",
              "    <div>\n",
              "<style scoped>\n",
              "    .dataframe tbody tr th:only-of-type {\n",
              "        vertical-align: middle;\n",
              "    }\n",
              "\n",
              "    .dataframe tbody tr th {\n",
              "        vertical-align: top;\n",
              "    }\n",
              "\n",
              "    .dataframe thead th {\n",
              "        text-align: right;\n",
              "    }\n",
              "</style>\n",
              "<table border=\"1\" class=\"dataframe\">\n",
              "  <thead>\n",
              "    <tr style=\"text-align: right;\">\n",
              "      <th></th>\n",
              "      <th>content</th>\n",
              "      <th>annotation</th>\n",
              "      <th>entities</th>\n",
              "    </tr>\n",
              "  </thead>\n",
              "  <tbody>\n",
              "    <tr>\n",
              "      <th>0</th>\n",
              "      <td>Abhishek Jha Application Development Associate...</td>\n",
              "      <td>[{'label': ['Skills'], 'points': [{'start': 12...</td>\n",
              "      <td>[(0, 12, Name), (13, 46, Designation), (49, 58...</td>\n",
              "    </tr>\n",
              "    <tr>\n",
              "      <th>1</th>\n",
              "      <td>Afreen Jamadar Active member of IIIT Committee...</td>\n",
              "      <td>[{'label': ['Email Address'], 'points': [{'sta...</td>\n",
              "      <td>[(0, 14, Name), (62, 68, Location), (104, 148,...</td>\n",
              "    </tr>\n",
              "    <tr>\n",
              "      <th>2</th>\n",
              "      <td>Akhil Yadav Polemaina Hyderabad, Telangana - E...</td>\n",
              "      <td>[{'label': ['Skills'], 'points': [{'start': 37...</td>\n",
              "      <td>[(0, 21, Name), (22, 31, Location), (65, 117, ...</td>\n",
              "    </tr>\n",
              "    <tr>\n",
              "      <th>3</th>\n",
              "      <td>Alok Khandai Operational Analyst (SQL DBA) Eng...</td>\n",
              "      <td>[{'label': ['Skills'], 'points': [{'start': 80...</td>\n",
              "      <td>[(0, 12, Name), (13, 51, Designation), (54, 60...</td>\n",
              "    </tr>\n",
              "    <tr>\n",
              "      <th>4</th>\n",
              "      <td>Ananya Chavan lecturer - oracle tutorials  Mum...</td>\n",
              "      <td>[{'label': ['Degree'], 'points': [{'start': 20...</td>\n",
              "      <td>[(0, 13, Name), (14, 22, Designation), (24, 41...</td>\n",
              "    </tr>\n",
              "  </tbody>\n",
              "</table>\n",
              "</div>\n",
              "    <div class=\"colab-df-buttons\">\n",
              "\n",
              "  <div class=\"colab-df-container\">\n",
              "    <button class=\"colab-df-convert\" onclick=\"convertToInteractive('df-d980bde3-f618-4e9f-b38e-7395711f9c2c')\"\n",
              "            title=\"Convert this dataframe to an interactive table.\"\n",
              "            style=\"display:none;\">\n",
              "\n",
              "  <svg xmlns=\"http://www.w3.org/2000/svg\" height=\"24px\" viewBox=\"0 -960 960 960\">\n",
              "    <path d=\"M120-120v-720h720v720H120Zm60-500h600v-160H180v160Zm220 220h160v-160H400v160Zm0 220h160v-160H400v160ZM180-400h160v-160H180v160Zm440 0h160v-160H620v160ZM180-180h160v-160H180v160Zm440 0h160v-160H620v160Z\"/>\n",
              "  </svg>\n",
              "    </button>\n",
              "\n",
              "  <style>\n",
              "    .colab-df-container {\n",
              "      display:flex;\n",
              "      gap: 12px;\n",
              "    }\n",
              "\n",
              "    .colab-df-convert {\n",
              "      background-color: #E8F0FE;\n",
              "      border: none;\n",
              "      border-radius: 50%;\n",
              "      cursor: pointer;\n",
              "      display: none;\n",
              "      fill: #1967D2;\n",
              "      height: 32px;\n",
              "      padding: 0 0 0 0;\n",
              "      width: 32px;\n",
              "    }\n",
              "\n",
              "    .colab-df-convert:hover {\n",
              "      background-color: #E2EBFA;\n",
              "      box-shadow: 0px 1px 2px rgba(60, 64, 67, 0.3), 0px 1px 3px 1px rgba(60, 64, 67, 0.15);\n",
              "      fill: #174EA6;\n",
              "    }\n",
              "\n",
              "    .colab-df-buttons div {\n",
              "      margin-bottom: 4px;\n",
              "    }\n",
              "\n",
              "    [theme=dark] .colab-df-convert {\n",
              "      background-color: #3B4455;\n",
              "      fill: #D2E3FC;\n",
              "    }\n",
              "\n",
              "    [theme=dark] .colab-df-convert:hover {\n",
              "      background-color: #434B5C;\n",
              "      box-shadow: 0px 1px 3px 1px rgba(0, 0, 0, 0.15);\n",
              "      filter: drop-shadow(0px 1px 2px rgba(0, 0, 0, 0.3));\n",
              "      fill: #FFFFFF;\n",
              "    }\n",
              "  </style>\n",
              "\n",
              "    <script>\n",
              "      const buttonEl =\n",
              "        document.querySelector('#df-d980bde3-f618-4e9f-b38e-7395711f9c2c button.colab-df-convert');\n",
              "      buttonEl.style.display =\n",
              "        google.colab.kernel.accessAllowed ? 'block' : 'none';\n",
              "\n",
              "      async function convertToInteractive(key) {\n",
              "        const element = document.querySelector('#df-d980bde3-f618-4e9f-b38e-7395711f9c2c');\n",
              "        const dataTable =\n",
              "          await google.colab.kernel.invokeFunction('convertToInteractive',\n",
              "                                                    [key], {});\n",
              "        if (!dataTable) return;\n",
              "\n",
              "        const docLinkHtml = 'Like what you see? Visit the ' +\n",
              "          '<a target=\"_blank\" href=https://colab.research.google.com/notebooks/data_table.ipynb>data table notebook</a>'\n",
              "          + ' to learn more about interactive tables.';\n",
              "        element.innerHTML = '';\n",
              "        dataTable['output_type'] = 'display_data';\n",
              "        await google.colab.output.renderOutput(dataTable, element);\n",
              "        const docLink = document.createElement('div');\n",
              "        docLink.innerHTML = docLinkHtml;\n",
              "        element.appendChild(docLink);\n",
              "      }\n",
              "    </script>\n",
              "  </div>\n",
              "\n",
              "\n",
              "<div id=\"df-dca7b132-2186-4e5c-83c6-24ddf0694a87\">\n",
              "  <button class=\"colab-df-quickchart\" onclick=\"quickchart('df-dca7b132-2186-4e5c-83c6-24ddf0694a87')\"\n",
              "            title=\"Suggest charts\"\n",
              "            style=\"display:none;\">\n",
              "\n",
              "<svg xmlns=\"http://www.w3.org/2000/svg\" height=\"24px\"viewBox=\"0 0 24 24\"\n",
              "     width=\"24px\">\n",
              "    <g>\n",
              "        <path d=\"M19 3H5c-1.1 0-2 .9-2 2v14c0 1.1.9 2 2 2h14c1.1 0 2-.9 2-2V5c0-1.1-.9-2-2-2zM9 17H7v-7h2v7zm4 0h-2V7h2v10zm4 0h-2v-4h2v4z\"/>\n",
              "    </g>\n",
              "</svg>\n",
              "  </button>\n",
              "\n",
              "<style>\n",
              "  .colab-df-quickchart {\n",
              "      --bg-color: #E8F0FE;\n",
              "      --fill-color: #1967D2;\n",
              "      --hover-bg-color: #E2EBFA;\n",
              "      --hover-fill-color: #174EA6;\n",
              "      --disabled-fill-color: #AAA;\n",
              "      --disabled-bg-color: #DDD;\n",
              "  }\n",
              "\n",
              "  [theme=dark] .colab-df-quickchart {\n",
              "      --bg-color: #3B4455;\n",
              "      --fill-color: #D2E3FC;\n",
              "      --hover-bg-color: #434B5C;\n",
              "      --hover-fill-color: #FFFFFF;\n",
              "      --disabled-bg-color: #3B4455;\n",
              "      --disabled-fill-color: #666;\n",
              "  }\n",
              "\n",
              "  .colab-df-quickchart {\n",
              "    background-color: var(--bg-color);\n",
              "    border: none;\n",
              "    border-radius: 50%;\n",
              "    cursor: pointer;\n",
              "    display: none;\n",
              "    fill: var(--fill-color);\n",
              "    height: 32px;\n",
              "    padding: 0;\n",
              "    width: 32px;\n",
              "  }\n",
              "\n",
              "  .colab-df-quickchart:hover {\n",
              "    background-color: var(--hover-bg-color);\n",
              "    box-shadow: 0 1px 2px rgba(60, 64, 67, 0.3), 0 1px 3px 1px rgba(60, 64, 67, 0.15);\n",
              "    fill: var(--button-hover-fill-color);\n",
              "  }\n",
              "\n",
              "  .colab-df-quickchart-complete:disabled,\n",
              "  .colab-df-quickchart-complete:disabled:hover {\n",
              "    background-color: var(--disabled-bg-color);\n",
              "    fill: var(--disabled-fill-color);\n",
              "    box-shadow: none;\n",
              "  }\n",
              "\n",
              "  .colab-df-spinner {\n",
              "    border: 2px solid var(--fill-color);\n",
              "    border-color: transparent;\n",
              "    border-bottom-color: var(--fill-color);\n",
              "    animation:\n",
              "      spin 1s steps(1) infinite;\n",
              "  }\n",
              "\n",
              "  @keyframes spin {\n",
              "    0% {\n",
              "      border-color: transparent;\n",
              "      border-bottom-color: var(--fill-color);\n",
              "      border-left-color: var(--fill-color);\n",
              "    }\n",
              "    20% {\n",
              "      border-color: transparent;\n",
              "      border-left-color: var(--fill-color);\n",
              "      border-top-color: var(--fill-color);\n",
              "    }\n",
              "    30% {\n",
              "      border-color: transparent;\n",
              "      border-left-color: var(--fill-color);\n",
              "      border-top-color: var(--fill-color);\n",
              "      border-right-color: var(--fill-color);\n",
              "    }\n",
              "    40% {\n",
              "      border-color: transparent;\n",
              "      border-right-color: var(--fill-color);\n",
              "      border-top-color: var(--fill-color);\n",
              "    }\n",
              "    60% {\n",
              "      border-color: transparent;\n",
              "      border-right-color: var(--fill-color);\n",
              "    }\n",
              "    80% {\n",
              "      border-color: transparent;\n",
              "      border-right-color: var(--fill-color);\n",
              "      border-bottom-color: var(--fill-color);\n",
              "    }\n",
              "    90% {\n",
              "      border-color: transparent;\n",
              "      border-bottom-color: var(--fill-color);\n",
              "    }\n",
              "  }\n",
              "</style>\n",
              "\n",
              "  <script>\n",
              "    async function quickchart(key) {\n",
              "      const quickchartButtonEl =\n",
              "        document.querySelector('#' + key + ' button');\n",
              "      quickchartButtonEl.disabled = true;  // To prevent multiple clicks.\n",
              "      quickchartButtonEl.classList.add('colab-df-spinner');\n",
              "      try {\n",
              "        const charts = await google.colab.kernel.invokeFunction(\n",
              "            'suggestCharts', [key], {});\n",
              "      } catch (error) {\n",
              "        console.error('Error during call to suggestCharts:', error);\n",
              "      }\n",
              "      quickchartButtonEl.classList.remove('colab-df-spinner');\n",
              "      quickchartButtonEl.classList.add('colab-df-quickchart-complete');\n",
              "    }\n",
              "    (() => {\n",
              "      let quickchartButtonEl =\n",
              "        document.querySelector('#df-dca7b132-2186-4e5c-83c6-24ddf0694a87 button');\n",
              "      quickchartButtonEl.style.display =\n",
              "        google.colab.kernel.accessAllowed ? 'block' : 'none';\n",
              "    })();\n",
              "  </script>\n",
              "</div>\n",
              "\n",
              "    </div>\n",
              "  </div>\n"
            ],
            "application/vnd.google.colaboratory.intrinsic+json": {
              "type": "dataframe",
              "variable_name": "df_data",
              "summary": "{\n  \"name\": \"df_data\",\n  \"rows\": 220,\n  \"fields\": [\n    {\n      \"column\": \"content\",\n      \"properties\": {\n        \"dtype\": \"string\",\n        \"num_unique_values\": 219,\n        \"samples\": [\n          \"Hemil Bhavsar Jr. ASP.NET Developer in True Vision Technology  Ahmedabad, Gujarat - Email me on Indeed: indeed.com/r/Hemil-Bhavsar/ce3a928d837ce9e1  To seek a job in the IT industry where I can utilize my skills and technical knowledge for the organization's and individual growth  Area of interest: \\u2022 Software Testing. \\u2022 Testing application manually. \\u2022 Great interest to learn new Technologies and Languages. \\u2022 Enterprise Application Development \\u2022 Web Application Development  WORK EXPERIENCE  Jr. ASP.NET Developer in True Vision Technology  -  September 2015 to May 2016  Software Testing Training at Unicode Technology From March 2018 to May 2018  Jr. ASP.NET Developer (Intern) in Softech Infosys  -  March 2015 to August 2015  EDUCATION  MSC  KSV University -  Gandhinagar, Gujarat  April 2015  B.C.A  Gujarat University  April 2013  SKILLS  ASP (1 year), ASP.NET (1 year), MS ASP (1 year), SOFTWARE TESTING (Less than 1 year), TESTING (Less than 1 year)  https://www.indeed.com/r/Hemil-Bhavsar/ce3a928d837ce9e1?isid=rex-download&ikw=download-top&co=IN   ADDITIONAL INFORMATION  Technical skillset: \\u2022 Manual Testing Techniques \\u2022 Web Application testing \\u2022 STLC (Software Testing Life Cycle) process \\u2022 Verification and Validation process \\u2022 Programming Language: Software Testing, ASP.Net with C#  \\u2022 Frameworks: Microsoft Visual Studio 2010, Frameworks 3.5, Frameworks (C#) 4.0, 4.5 \\u2022 Database tools: MySQL, SQL Server 2008, SQL Server 2010, MS-Access 2008 \\u2022 Report generation Tool: Crystal Report\",\n          \"Syam Devendla Bengaluru, Karnataka - Email me on Indeed: indeed.com/r/Syam-Devendla/ c9ba7bc582b14a7b  Senior software engineer with more than 9 years of experience in C, C++, Data Structures programming and BI analytics. Experience includes implementation and testing of enterprise and mobile application and middleware component software.  WORK EXPERIENCE  SMTS  Oracle India -  Bengaluru, Karnataka -  January 2014 to Present  with OBIEE team. \\u2022 Worked in Samsung R&D Operations, Bangalore since Oct- 2008 to Jan 2014, with Multimedia team.  EDUCATION  Post Graduate Diploma in Embedded Systems  CDAC -  Kochi, Kerala  2006  Bachelor of Technology in Electronics and Communications  Nagarjuna University  2005  SKILLS  .NET (Less than 1 year), ALGORITHMS (Less than 1 year), ALSA (Less than 1 year), ANDROID (Less than 1 year), APACHE HADOOP HDFS (Less than 1 year)  ADDITIONAL INFORMATION  Core Competencies  \\u2022 Extensively worked in C, C++ \\u2022 Good understanding of Data Structures and Algorithms \\u2022 Good understanding and knowledge of BI Analytics of OBIEE. \\u2022 Codes at HackerRank.com and am a 4 Star Rank coder in algorithms, coded using C++ STL \\u2022 Hands on experience of GDB Debugger for Core dump analysis and Server  https://www.indeed.com/r/Syam-Devendla/c9ba7bc582b14a7b?isid=rex-download&ikw=download-top&co=IN https://www.indeed.com/r/Syam-Devendla/c9ba7bc582b14a7b?isid=rex-download&ikw=download-top&co=IN   side debugging. \\u2022 Hands on experience of Visual Studio debugger for debugging on Windows platform. \\u2022 Working experience of Multithreaded applications for more than eight years \\u2022 Good understanding of OOPS Design principles and STL. \\u2022 Experienced in using various debuggers that include GDB debugger, Eclipse, VC++ IDE, Trace 32, WinDbg, Visual Studio. \\u2022 Good knowledge of Big data technologies(Hadoop, Yarn Architecture, map- reduce, Hive, Sqoop, Hbase, Zookeeper) \\u2022 Good experience in Hadoop development and Admin activities. \\u2022 Able to understand and review Java and Scala code \\u2022 Good Exposure to Software practices, SDLC. \\u2022 Good understanding and porting knowledge of framework components. \\u2022 Good understanding of multimedia concepts, Audio video synchronization, AudioOut, AudioIn and video zoom. \\u2022 Knowledge of WEBRTC features. \\u2022 Good knowledge of video Engine. \\u2022 Basic knowledge of MFC, socket programming. \\u2022 Good knowledge in programming and operating system concepts. \\u2022 Experience in working in a project from product development phase to commercialization phase. \\u2022 Successfully commercialized more than 25 million mobiles spanning across twenty models. \\u2022 Good global work exposure having worked in different work environments. \\u2022 Basic understanding of Linux Operating system. \\u2022 Experienced in design and implementation of Multimedia Applications for Mobile handsets. \\u2022 Good experience working on Smart Phone platforms(Framework, Middleware and Application development) having worked on various mobile platforms SHP, Samsung Bada, Linux, WindowsMobile5.0, SLP, Android and Tizen. Syam Prasad Devendla \\u2022 Good knowledge and understanding of different frameworks for multimedia. \\u2022 Good knowledge of multi-threaded programming and IPC mechanisms. \\u2022 Excellent interpersonal and communication skills and ability to work in a team. \\u2022 Skilled at learning new concepts quickly, working well under pressure, and communicating ideas clearly and effectively. \\u2022 Tools Used: Beyond Compare, Samsung memory leak tool, and Samsung code coverageTool, VS 2005 Remote Tools, KlocWork, WinShark and Ethereal. \\u2022 Experienced in working with configuration tools like VSS, Perforce, and Clear Case.  \\u2022 Operating Systems: Windows, Ubuntu Linux \\u2022 Mobile Platforms: SHP, Bada, Linux, WindowsMobile5.0, SLP and Tizen \\u2022 Technology: Multimedia, Content, Mobile Applications \\u2022 Languages: C, C++(Data Structures, Design Patterns, STL) \\u2022 Tools: Eclipse, VS2005, VS2010 KlocWork, Clear case, Perforce  Projects    \\u2022 OBIEE Environment: Oracle BI Languages: C++ \\u2022 Implementing enhancements, improving the diagnosabilty and address the customer issues by fixing the code bugs. \\u2022 Developed a security feature in downloads module to protect the system from DOS attack. \\u2022 Implemented a performance enhancer logic in Ibots to execute the agents faster. \\u2022 Responsible for fix/enhance Ibot(Delivers/Agent/Schedulers) issues in the product. \\u2022 Responsible for fixing the core dump issues reported by customers in the nqscheduler component in linux 32/64 and windows 32/64 platforms. \\u2022 Oracle-Thirdeye Environment: HDFS, Yarn, Hadoop, map-reduce, thirdeye-agent \\u2022 GUI is able to provide all information in a usable environment. \\u2022 Most of the use will be as an embeddable UI in applications like TLP, DTE, and Bug DB etc.  Syam Prasad Devendla \\u2022 Provide term, line number and time indexes for word and phrase search, ability to drill down to a given line number and data around it, and also have ability to see data around a given time.  \\u2022 Thirdeye-nodes-refresh Environment: HDFS, Yarn, Hadoop, map-reduce \\u2022 All processes for thirdeye including Hadoop components running on the same node. This overburdens the master node and leads to frequent failures due to disk space and memory issues, so worked on POC to replicate entire thirdeye setup with required configuration on new machines.  \\u2022 BI-Manifest-Comparison Tool Environment: Oracle BI Languages: Java \\u2022 Implemented tool to create an excel with manifests data across platforms and painted the mismatched versions \\u2022 WebRTC Environment: Browser Languages: C++ \\u2022 Media Recorder implementation. \\u2022 Multi Party communication development. \\u2022 Stage Fright (recorder and playback) \\u2022 Video engine \\u2022 Peer connection \\u2022 PlatformsY2012-Framework (content) Environment: Tizen Languages: C++ \\u2022 Developing Tizen framework (content) on SLP. \\u2022 File Search \\u2022 Directory Search \\u2022 Playlist and Playlist Manager \\u2022 Supporting Tizen content framework. \\u2022 PlatformsY2011 -Framework (Multimedia- player) Environment: Bada, Eclipse, SLP (Samsung Linux Platform) Languages: C++    \\u2022 Implemented player framework for Bada OS \\u2022 Audio Player and video Player modules. \\u2022 POC of AV synchronization for video zoom. \\u2022 Supporting Bada2.0 player framework and commercialization. \\u2022 Movie Studio (Video Editor) Environment: Bada, Eclipse Languages: C++ \\u2022 Developed application based on UI guidelines given, modules like preview, split and trim forms using VePlayer library. \\u2022 Implemented VPL file creation. \\u2022 Media Browser Environment: Bada, Eclipse Languages: C, C++ \\u2022 This application is developed to check the stability of Bada's player and Audio out modules. \\u2022 Audio Player and video Player modules. \\u2022 Implemented progress bar of player in both Player Form and PLS Player Form. \\u2022 Bada-NS(R&D) Environment: Linux, SLP (Samsung Linux Platform) Languages: C, C++ \\u2022 Worked on launching emulator \\u2022 knowledge of SLP Multimedia Framework \\u2022 Ported Player (Audio and Video) module \\u2022 Ported Audio Out and Audio In modules using ALSA library \\u2022 ETMs Firmware Client: Wabtec Railway Electronics, German Town  Syam Prasad Devendla Environment: Windows XP, IAR Workbench Hardware: IOC board (Provided by WRE) Languages: C \\u2022 Serial - Ethernet Bridge \\u2022 Serial communication commands handling. \\u2022 Supt Link Client: Schindler Elevator & Escalator Corporation Environment: Windows Mobile 5.0, embedded VC, Visual Studio 2005 Languages: VC++, MFC \\u2022 A Business application. It makes easy for the superintendents to check the status of the elevators and escalators which are newly installed or being maintained and rate them according to their performance and report the same to the Sap server using mobility solutions. \\u2022 FldLink Client: Schindler Elevator & Escalator Corporation Environment: Windows Mobile 5.0, embedded VC, Visual Studio 2005 Languages: VC++, MFC \\u2022 FldLink is a Mobile Application which provides the technicians with a single, comprehensive view of contact information, meeting schedules, Technical information and repairing support while working in the field.\",\n          \"Siddharth Choudhary Microsoft Office Suite - Expert  Hyderabad, Telangana - Email me on Indeed: indeed.com/r/Siddharth- Choudhary/19d56a964e37fa1a  Goal oriented finance professional with a great aptitude to learn. Dedicated to CONTACT meeting aggressive/challenging business goals. Logically strong with good knowledge in financial management, tax, audit, and computers. choudharysiddharth22@gmail.com  During my training/articleship period, I have learnt how to analyse business [\\u2026] [\\u2026] cycles/operations and conduct risk analysis and further audit procedures www.linkedin.com/in/Sid- based on the risk analysis. Choudhary  WORK EXPERIENCE  Microsoft Office Suite - Expert  Tally ERP - Intermediate SQL, Chartered -  2013 to 2017  ICAI 464/800 Accountancy  EDUCATION  Score  SKILLS  AUDITING (Less than 1 year), CFA (Less than 1 year), DERIVATIVES (Less than 1 year), FINANCIAL ANALYST (Less than 1 year), FINANCIAL STATEMENT ANALYSIS (Less than 1 year)  ADDITIONAL INFORMATION  CORE COMPETENCIES  212, Shri Gayathri Elegant, Karkhana, Sec-bad. Portfolio management strategies Auditing (Statutory) Derivatives and Swaps Financial statement analysis Consolidation Ratio/Trend Analysis  COMPUTER SKILLS 2017- Chartered Level 1 - CFA (US)  https://www.indeed.com/r/Siddharth-Choudhary/19d56a964e37fa1a?isid=rex-download&ikw=download-top&co=IN https://www.indeed.com/r/Siddharth-Choudhary/19d56a964e37fa1a?isid=rex-download&ikw=download-top&co=IN   Present Financial Analyst Cleared\"\n        ],\n        \"semantic_type\": \"\",\n        \"description\": \"\"\n      }\n    },\n    {\n      \"column\": \"annotation\",\n      \"properties\": {\n        \"dtype\": \"object\",\n        \"semantic_type\": \"\",\n        \"description\": \"\"\n      }\n    },\n    {\n      \"column\": \"entities\",\n      \"properties\": {\n        \"dtype\": \"object\",\n        \"semantic_type\": \"\",\n        \"description\": \"\"\n      }\n    }\n  ]\n}"
            }
          },
          "metadata": {},
          "execution_count": 6
        }
      ],
      "source": [
        "df_data['entities'] = get_entities(df_data)\n",
        "df_data.head()"
      ]
    },
    {
      "cell_type": "code",
      "execution_count": 7,
      "metadata": {
        "id": "LX8sBXG9I2ls"
      },
      "outputs": [],
      "source": [
        "def convert_dataturks_to_spacy(dataturks_JSON_FilePath):\n",
        "    try:\n",
        "        training_data = []\n",
        "        lines=[]\n",
        "        with open(dataturks_JSON_FilePath, 'r') as f:\n",
        "            lines = f.readlines()\n",
        "\n",
        "        for line in lines:\n",
        "            data = json.loads(line)\n",
        "            text = data['content'].replace(\"\\n\", \" \")\n",
        "            entities = []\n",
        "            data_annotations = data['annotation']\n",
        "            if data_annotations is not None:\n",
        "                for annotation in data_annotations:\n",
        "                    #only a single point in text annotation.\n",
        "                    point = annotation['points'][0]\n",
        "                    labels = annotation['label']\n",
        "                    # handle both list of labels or a single label.\n",
        "                    if not isinstance(labels, list):\n",
        "                        labels = [labels]\n",
        "\n",
        "                    for label in labels:\n",
        "                        point_start = point['start']\n",
        "                        point_end = point['end']\n",
        "                        point_text = point['text']\n",
        "\n",
        "                        lstrip_diff = len(point_text) - len(point_text.lstrip())\n",
        "                        rstrip_diff = len(point_text) - len(point_text.rstrip())\n",
        "                        if lstrip_diff != 0:\n",
        "                            point_start = point_start + lstrip_diff\n",
        "                        if rstrip_diff != 0:\n",
        "                            point_end = point_end - rstrip_diff\n",
        "                        entities.append((point_start, point_end + 1 , label))\n",
        "            training_data.append((text, {\"entities\" : entities}))\n",
        "        return training_data\n",
        "    except Exception as e:\n",
        "        logging.exception(\"Unable to process \" + dataturks_JSON_FilePath + \"\\n\" + \"error = \" + str(e))\n",
        "        return None\n",
        "\n",
        "def trim_entity_spans(data: list) -> list:\n",
        "    \"\"\"Removes leading and trailing white spaces from entity spans.\n",
        "\n",
        "    Args:\n",
        "        data (list): The data to be cleaned in spaCy JSON format.\n",
        "\n",
        "    Returns:\n",
        "        list: The cleaned data.\n",
        "    \"\"\"\n",
        "    invalid_span_tokens = re.compile(r'\\s')\n",
        "\n",
        "    cleaned_data = []\n",
        "    for text, annotations in data:\n",
        "        entities = annotations['entities']\n",
        "        valid_entities = []\n",
        "        for start, end, label in entities:\n",
        "            valid_start = start\n",
        "            valid_end = end\n",
        "            while valid_start < len(text) and invalid_span_tokens.match(\n",
        "                    text[valid_start]):\n",
        "                valid_start += 1\n",
        "            while valid_end > 1 and invalid_span_tokens.match(\n",
        "                    text[valid_end - 1]):\n",
        "                valid_end -= 1\n",
        "            valid_entities.append([valid_start, valid_end, label])\n",
        "        cleaned_data.append([text, {'entities': valid_entities}])\n",
        "    return cleaned_data"
      ]
    },
    {
      "cell_type": "code",
      "execution_count": 8,
      "metadata": {
        "id": "y-O5D22NI2ls"
      },
      "outputs": [],
      "source": [
        "data = trim_entity_spans(convert_dataturks_to_spacy(\"ner.json\"))"
      ]
    },
    {
      "cell_type": "code",
      "execution_count": 13,
      "metadata": {
        "id": "cX0fVw1II2lt"
      },
      "outputs": [],
      "source": [
        "from tqdm.notebook import tqdm\n",
        "def clean_dataset(data):\n",
        "    cleanedDF = pd.DataFrame(columns=[\"setences_cleaned\"])\n",
        "    sum1 = 0\n",
        "    for i in tqdm(range(len(data))):\n",
        "        start = 0\n",
        "        emptyList = [\"Empty\"] * len(data[i][0].split())\n",
        "        numberOfWords = 0\n",
        "        lenOfString = len(data[i][0])\n",
        "        strData = data[i][0]\n",
        "        strDictData = data[i][1]\n",
        "        lastIndexOfSpace = strData.rfind(' ')\n",
        "        for i in range(lenOfString):\n",
        "            if (strData[i]==\" \" and strData[i+1]!=\" \"):\n",
        "                for k,v in strDictData.items():\n",
        "                    for j in range(len(v)):\n",
        "                        entList = v[len(v)-j-1]\n",
        "                        if (start>=int(entList[0]) and i<=int(entList[1])):\n",
        "                            emptyList[numberOfWords] = entList[2]\n",
        "                            break\n",
        "                        else:\n",
        "                            continue\n",
        "                start = i + 1\n",
        "                numberOfWords += 1\n",
        "            if (i == lastIndexOfSpace):\n",
        "                for j in range(len(v)):\n",
        "                        entList = v[len(v)-j-1]\n",
        "                        if (lastIndexOfSpace>=int(entList[0]) and lenOfString<=int(entList[1])):\n",
        "                            emptyList[numberOfWords] = entList[2]\n",
        "                            numberOfWords += 1\n",
        "        cleanedDF = pd.concat([cleanedDF, pd.Series([emptyList],  index=cleanedDF.columns )], ignore_index=True )\n",
        "        sum1 = sum1 + numberOfWords\n",
        "    return cleanedDF"
      ]
    },
    {
      "cell_type": "code",
      "execution_count": null,
      "metadata": {
        "id": "gjRST96-I2lt"
      },
      "outputs": [],
      "source": [
        "cleanedDF = clean_dataset(data)"
      ]
    },
    {
      "cell_type": "markdown",
      "metadata": {
        "id": "lYji7Fx0I2lt"
      },
      "source": [
        "Take a look at your cleaned dataset and the categories the named-entities are matched to, or 'tags'."
      ]
    },
    {
      "cell_type": "code",
      "execution_count": null,
      "metadata": {
        "id": "O1t3JO4qI2lt",
        "outputId": "d3ee53a5-4101-4796-f0e5-f1e9a4e0c056"
      },
      "outputs": [
        {
          "data": {
            "text/html": [
              "<div>\n",
              "<style scoped>\n",
              "    .dataframe tbody tr th:only-of-type {\n",
              "        vertical-align: middle;\n",
              "    }\n",
              "\n",
              "    .dataframe tbody tr th {\n",
              "        vertical-align: top;\n",
              "    }\n",
              "\n",
              "    .dataframe thead th {\n",
              "        text-align: right;\n",
              "    }\n",
              "</style>\n",
              "<table border=\"1\" class=\"dataframe\">\n",
              "  <thead>\n",
              "    <tr style=\"text-align: right;\">\n",
              "      <th></th>\n",
              "      <th>setences_cleaned</th>\n",
              "    </tr>\n",
              "  </thead>\n",
              "  <tbody>\n",
              "    <tr>\n",
              "      <th>0</th>\n",
              "      <td>[Name, Name, Designation, Designation, Designa...</td>\n",
              "    </tr>\n",
              "    <tr>\n",
              "      <th>1</th>\n",
              "      <td>[Name, Name, Empty, Empty, Empty, Empty, Empty...</td>\n",
              "    </tr>\n",
              "    <tr>\n",
              "      <th>2</th>\n",
              "      <td>[Name, Name, Name, Empty, Empty, Empty, Empty,...</td>\n",
              "    </tr>\n",
              "    <tr>\n",
              "      <th>3</th>\n",
              "      <td>[Name, Name, Designation, Designation, Designa...</td>\n",
              "    </tr>\n",
              "    <tr>\n",
              "      <th>4</th>\n",
              "      <td>[Name, Name, Designation, Empty, Companies wor...</td>\n",
              "    </tr>\n",
              "  </tbody>\n",
              "</table>\n",
              "</div>"
            ],
            "text/plain": [
              "                                    setences_cleaned\n",
              "0  [Name, Name, Designation, Designation, Designa...\n",
              "1  [Name, Name, Empty, Empty, Empty, Empty, Empty...\n",
              "2  [Name, Name, Name, Empty, Empty, Empty, Empty,...\n",
              "3  [Name, Name, Designation, Designation, Designa...\n",
              "4  [Name, Name, Designation, Empty, Companies wor..."
            ]
          },
          "execution_count": 23,
          "metadata": {},
          "output_type": "execute_result"
        }
      ],
      "source": [
        "cleanedDF.head()"
      ]
    },
    {
      "cell_type": "markdown",
      "metadata": {
        "id": "61wHNOmYI2lu"
      },
      "source": [
        "<a name='1-2'></a>\n",
        "### 1.2 - Padding and Generating Tags\n",
        "\n",
        "Now, it is time to generate a list of unique tags you will match the named-entities to."
      ]
    },
    {
      "cell_type": "code",
      "execution_count": null,
      "metadata": {
        "id": "2I0N6do7I2lu"
      },
      "outputs": [],
      "source": [
        "unique_tags = set(cleanedDF['setences_cleaned'].explode().unique())#pd.unique(cleanedDF['setences_cleaned'])#set(tag for doc in cleanedDF['setences_cleaned'].values.tolist() for tag in doc)\n",
        "tag2id = {tag: id for id, tag in enumerate(unique_tags)}\n",
        "id2tag = {id: tag for tag, id in tag2id.items()}"
      ]
    },
    {
      "cell_type": "code",
      "execution_count": null,
      "metadata": {
        "id": "MymA6tUoI2lu",
        "outputId": "750be6c2-f165-4415-e04e-9bfb1f4caf62"
      },
      "outputs": [
        {
          "data": {
            "text/plain": [
              "{'College Name',\n",
              " 'Companies worked at',\n",
              " 'Degree',\n",
              " 'Designation',\n",
              " 'Email Address',\n",
              " 'Empty',\n",
              " 'Graduation Year',\n",
              " 'Location',\n",
              " 'Name',\n",
              " 'Skills',\n",
              " 'UNKNOWN',\n",
              " 'Years of Experience'}"
            ]
          },
          "execution_count": 25,
          "metadata": {},
          "output_type": "execute_result"
        }
      ],
      "source": [
        "unique_tags"
      ]
    },
    {
      "cell_type": "markdown",
      "metadata": {
        "id": "4QM38tFDI2lu"
      },
      "source": [
        "Next, you will create an array of tags from your cleaned dataset. Oftentimes your input sequence will exceed the maximum length of a sequence your network can process. In this case, your sequence will be cut off, and you need to append zeroes onto the end of the shortened sequences using this [Keras padding API](https://www.tensorflow.org/api_docs/python/tf/keras/preprocessing/sequence/pad_sequences)."
      ]
    },
    {
      "cell_type": "code",
      "execution_count": null,
      "metadata": {
        "id": "_lB3vif8I2lu"
      },
      "outputs": [],
      "source": [
        "from tensorflow.keras.preprocessing.sequence import pad_sequences"
      ]
    },
    {
      "cell_type": "code",
      "execution_count": null,
      "metadata": {
        "id": "rR6HsXUCI2lu"
      },
      "outputs": [],
      "source": [
        "MAX_LEN = 512\n",
        "labels = cleanedDF['setences_cleaned'].values.tolist()\n",
        "\n",
        "tags = pad_sequences([[tag2id.get(l) for l in lab] for lab in labels],\n",
        "                     maxlen=MAX_LEN, value=tag2id[\"Empty\"], padding=\"post\",\n",
        "                     dtype=\"long\", truncating=\"post\")"
      ]
    },
    {
      "cell_type": "code",
      "execution_count": null,
      "metadata": {
        "id": "1Yi4eGT6I2lu",
        "outputId": "f097db07-3410-420b-83cc-c07c59fa96af"
      },
      "outputs": [
        {
          "data": {
            "text/plain": [
              "array([[10, 10,  1, ..., 11, 11, 11],\n",
              "       [10, 10, 11, ..., 11, 11, 11],\n",
              "       [10, 10, 10, ..., 11,  2, 11],\n",
              "       ...,\n",
              "       [10, 10,  1, ..., 11, 11, 11],\n",
              "       [10, 10,  1, ..., 11, 11, 11],\n",
              "       [10, 10,  1, ..., 11, 11, 11]])"
            ]
          },
          "execution_count": 28,
          "metadata": {},
          "output_type": "execute_result"
        }
      ],
      "source": [
        "tags"
      ]
    },
    {
      "cell_type": "markdown",
      "metadata": {
        "id": "k7m8OLgKI2lv"
      },
      "source": [
        "<a name='1-3'></a>\n",
        "### 1.3 - Tokenize and Align Labels with 🤗 Library\n",
        "\n",
        "Before feeding the texts to a Transformer model, you will need to tokenize your input using a [🤗 Transformer tokenizer](https://huggingface.co/transformers/main_classes/tokenizer.html). It is crucial that the tokenizer you use must match the Transformer model type you are using! In this exercise, you will use the 🤗 [DistilBERT fast tokenizer](https://huggingface.co/transformers/model_doc/distilbert.html), which standardizes the length of your sequence to 512 and pads with zeros. Notice this matches the maximum length you used when creating tags."
      ]
    },
    {
      "cell_type": "code",
      "execution_count": null,
      "metadata": {
        "deletable": false,
        "edittable": false,
        "id": "N3P2azLvI2lv"
      },
      "outputs": [],
      "source": [
        "gpus = tf.config.list_physical_devices('GPU')\n",
        "if gpus:\n",
        "    for gpu in gpus:\n",
        "        tf.config.experimental.set_virtual_device_configuration(gpu,[tf.config.experimental.VirtualDeviceConfiguration(memory_limit=4096)])"
      ]
    },
    {
      "cell_type": "code",
      "execution_count": null,
      "metadata": {
        "id": "99aWuePOI2lv"
      },
      "outputs": [],
      "source": [
        "from transformers import DistilBertTokenizerFast #, TFDistilBertModel\n",
        "tokenizer = DistilBertTokenizerFast.from_pretrained('tokenizer/')"
      ]
    },
    {
      "cell_type": "markdown",
      "metadata": {
        "id": "QWPkifiCI2lv"
      },
      "source": [
        "Transformer models are often trained by tokenizers that split words into subwords. For instance, the word 'Africa' might get split into multiple subtokens. This can create some misalignment between the list of tags for the dataset and the list of labels generated by the tokenizer, since the tokenizer can split one word into several, or add special tokens. Before processing, it is important that you align the lists of tags and the list of labels generated by the selected tokenizer with a `tokenize_and_align_labels()` function.\n",
        "\n",
        "<a name='ex-1'></a>\n",
        "### Tokenize_and_align_labels\n",
        "\n",
        "Implement `tokenize_and_align_labels()`. The function should perform the following:\n",
        "* The tokenizer cuts sequences that exceed the maximum size allowed by your model with the parameter `truncation=True`\n",
        "* Aligns the list of tags and labels with the tokenizer `word_ids` method returns a list that maps the subtokens to the original word in the sentence and special tokens to `None`.\n",
        "* Set the labels of all the special tokens (`None`) to -100 to prevent them from affecting the loss function.\n",
        "* Label of the first subtoken of a word and set the label for the following subtokens to -100."
      ]
    },
    {
      "cell_type": "code",
      "execution_count": null,
      "metadata": {
        "id": "JRLeb4sLI2lw"
      },
      "outputs": [],
      "source": [
        "label_all_tokens = True\n",
        "def tokenize_and_align_labels(tokenizer, examples, tags):\n",
        "    tokenized_inputs = tokenizer(examples, truncation=True, is_split_into_words=False, padding='max_length', max_length=512)\n",
        "    labels = []\n",
        "    for i, label in enumerate(tags):\n",
        "        word_ids = tokenized_inputs.word_ids(batch_index=i)\n",
        "        previous_word_idx = None\n",
        "        label_ids = []\n",
        "        for word_idx in word_ids:\n",
        "            # Special tokens have a word id that is None. We set the label to -100 so they are automatically\n",
        "            # ignored in the loss function.\n",
        "            if word_idx is None:\n",
        "                label_ids.append(-100)\n",
        "            # We set the label for the first token of each word.\n",
        "            elif word_idx != previous_word_idx:\n",
        "                label_ids.append(label[word_idx])\n",
        "            # For the other tokens in a word, we set the label to either the current label or -100, depending on\n",
        "            # the label_all_tokens flag.\n",
        "            else:\n",
        "                label_ids.append(label[word_idx] if label_all_tokens else -100)\n",
        "            previous_word_idx = word_idx\n",
        "\n",
        "        labels.append(label_ids)\n",
        "\n",
        "    tokenized_inputs[\"labels\"] = labels\n",
        "    return tokenized_inputs"
      ]
    },
    {
      "cell_type": "markdown",
      "metadata": {
        "id": "J6OuasYCI2lw"
      },
      "source": [
        "Now that you have tokenized inputs, you can create train and test datasets!"
      ]
    },
    {
      "cell_type": "code",
      "execution_count": null,
      "metadata": {
        "id": "Toot2KhDI2lw"
      },
      "outputs": [],
      "source": [
        "test = tokenize_and_align_labels(tokenizer, df_data['content'].values.tolist(), tags)\n",
        "train_dataset = tf.data.Dataset.from_tensor_slices((\n",
        "    test['input_ids'],\n",
        "    test['labels']\n",
        "))"
      ]
    },
    {
      "cell_type": "markdown",
      "metadata": {
        "id": "QZHNcmBYI2lw"
      },
      "source": [
        "<a name='1-4'></a>\n",
        "### 1.4 - Optimization\n",
        "\n",
        "Fantastic! Now you can finally feed your data into into a pretrained 🤗 model. You will optimize a DistilBERT model, which matches the tokenizer you used to preprocess your data. Try playing around with the different hyperparamters to improve your results!"
      ]
    },
    {
      "cell_type": "code",
      "execution_count": null,
      "metadata": {
        "id": "YUbtXPa3I2lw",
        "outputId": "b328d059-57c6-422a-a8b8-e56f046808ff"
      },
      "outputs": [
        {
          "name": "stderr",
          "output_type": "stream",
          "text": [
            "All model checkpoint layers were used when initializing TFDistilBertForTokenClassification.\n",
            "\n",
            "All the layers of TFDistilBertForTokenClassification were initialized from the model checkpoint at model/.\n",
            "If your task is similar to the task the model of the checkpoint was trained on, you can already use TFDistilBertForTokenClassification for predictions without further training.\n"
          ]
        }
      ],
      "source": [
        "from transformers import TFDistilBertForTokenClassification\n",
        "\n",
        "model = TFDistilBertForTokenClassification.from_pretrained('model/', num_labels=len(unique_tags))"
      ]
    },
    {
      "cell_type": "code",
      "execution_count": null,
      "metadata": {
        "id": "i-XkT9NbI2lx",
        "outputId": "97821a3d-8911-4e06-e653-27679c2e7883"
      },
      "outputs": [
        {
          "name": "stdout",
          "output_type": "stream",
          "text": [
            "Epoch 1/10\n",
            "55/55 [==============================] - 5s 94ms/step - loss: 0.7794 - accuracy: 0.7306\n",
            "Epoch 2/10\n",
            "55/55 [==============================] - 5s 93ms/step - loss: 0.4856 - accuracy: 0.7537\n",
            "Epoch 3/10\n",
            "55/55 [==============================] - 5s 93ms/step - loss: 0.4408 - accuracy: 0.7590\n",
            "Epoch 4/10\n",
            "55/55 [==============================] - 5s 94ms/step - loss: 0.4166 - accuracy: 0.7617\n",
            "Epoch 5/10\n",
            "55/55 [==============================] - 5s 93ms/step - loss: 0.3965 - accuracy: 0.7626\n",
            "Epoch 6/10\n",
            "55/55 [==============================] - 5s 93ms/step - loss: 0.3777 - accuracy: 0.7633\n",
            "Epoch 7/10\n",
            "55/55 [==============================] - 5s 93ms/step - loss: 0.3634 - accuracy: 0.7652\n",
            "Epoch 8/10\n",
            "55/55 [==============================] - 5s 93ms/step - loss: 0.3437 - accuracy: 0.7698\n",
            "Epoch 9/10\n",
            "55/55 [==============================] - 5s 93ms/step - loss: 0.3254 - accuracy: 0.7750\n",
            "Epoch 10/10\n",
            "55/55 [==============================] - 5s 94ms/step - loss: 0.3114 - accuracy: 0.7785\n"
          ]
        },
        {
          "data": {
            "text/plain": [
              "<tensorflow.python.keras.callbacks.History at 0x7f9460689ef0>"
            ]
          },
          "execution_count": 34,
          "metadata": {},
          "output_type": "execute_result"
        }
      ],
      "source": [
        "optimizer = tf.keras.optimizers.Adam(learning_rate=1e-5)\n",
        "model.compile(optimizer=optimizer, loss=model.compute_loss, metrics=['accuracy']) # can also use any keras loss fn\n",
        "model.fit(train_dataset.batch(4),\n",
        "          epochs=10,\n",
        "          batch_size=4)"
      ]
    },
    {
      "cell_type": "code",
      "execution_count": null,
      "metadata": {
        "id": "8M_pxzsDI2ly"
      },
      "outputs": [],
      "source": [
        "text = \"Manisha Bharti. 3.5 years of professional IT experience in Banking and Finance domain\"\n",
        "inputs = tokenizer(text, return_tensors=\"tf\", truncation=True, is_split_into_words=False, padding=\"max_length\", max_length=512 )\n",
        "input_ids = inputs[\"input_ids\"]\n",
        "#inputs[\"labels\"] = tf.reshape(tf.constant([1] * tf.size(input_ids).numpy()), (-1, tf.size(input_ids)))"
      ]
    },
    {
      "cell_type": "code",
      "execution_count": null,
      "metadata": {
        "id": "c_7tNx6dI2ly",
        "outputId": "6a8637c0-4d63-4a80-b737-753dc712e3c8"
      },
      "outputs": [
        {
          "name": "stdout",
          "output_type": "stream",
          "text": [
            "[[11 10 10 10 10 11 11 11 11 11 11 11 11 11 11 11 11 11 11 11 10 11 11 11\n",
            "  11 11 11 11 11 11 11 11 11 11 11 11 11 11 11 11 11 11 11 11 11 11 11 11\n",
            "  11 11 11 11 11 11 11 11 10 11 11 11 11 11 11 11 11 11 11 11 11 11 11 11\n",
            "  11 11 11 11 11 11 11 11 11 11 11 11 11 11 11 11 11 11 11 11 11 11 11 11\n",
            "  11 11 11 11 11 11 11 11 11 11 11 11 11 11 11 10 11 10 11 11 11 11 11 11\n",
            "  11 11 11 11 11 11 11 11 11 11 10 11 11 11 11 11 11 11 11 11 11 11 11 11\n",
            "  11 11 11 11 11 11 11 11 11 11 11 11 11 11 11 11 11 11 11 11 11 11 11 11\n",
            "  11 11 11 11 10 11 11 11 10 11 11 11 11 11 11 11 11 11 11 11 11 11 11 11\n",
            "  11 11 11 11 11 11 11 11 11 11 11 11 11 11 11 11 11 11 11 11 10 11 11 11\n",
            "  11 11 11 11 11 11 11 11 11 11 11 11 11 11 11 11 11 11 11 11 11 11 11 11\n",
            "  11 11 11 11 11 11 11 11 11 11 11 11 11 10 11 11 11 11 11 11 11 11 11 11\n",
            "  11 11 11 11 11 11 11 11 11 11 11 11 11 11 11 11 11 11 11 11 11 11 11 11\n",
            "  11 11 11 11 11 11 11 11 11 11 11 11 11 11 11 11 11 11 11 11 11 11 11 11\n",
            "  11 11 11 11 11 11 11 11 11 11 11 11 11 11 11 11 11 11 11 11 11 11 11 11\n",
            "  11 11 11 11 11 11 11 11 11 11 11 11 11 11 11 11 11 11 11 11 11 11 11 11\n",
            "  11 11 11 11 11 11 11 11 11 11 10 11 10 11 11 11 11 11 11 11 11 11 11 11\n",
            "  10 11 10 11 11 11 11 11 11 11 11 11 11 11 11 11 11 11 11 11 11 11 11 11\n",
            "  11 11 11 11 11 11 11 11 11 11 11 11 11 11 11 11 11 11 11 11 11 11 11 11\n",
            "  11 11 11 11 11 11 11 11 11 11 11 11 11 11 11 11 11 11 11 11 11 11 11 11\n",
            "  11 10 11 10 11 11 11 11 11 11 11 11 11 11 11 11 11 11 11 11 11 11 11 11\n",
            "  11 11 11 11 11 11 11 11 11 11 11 11 11 11 11 11 11 11 11 11 11 11 11 11\n",
            "  11 11 11 11 11 11 11 11]]\n"
          ]
        }
      ],
      "source": [
        "output = model(inputs).logits\n",
        "prediction = np.argmax(output, axis=2)\n",
        "print( prediction)"
      ]
    },
    {
      "cell_type": "code",
      "execution_count": null,
      "metadata": {
        "id": "5bEzBRulI2ly",
        "outputId": "c848c93d-fdb2-4c18-c467-3669c631f0fc"
      },
      "outputs": [
        {
          "data": {
            "text/plain": [
              "TFTokenClassifierOutput(loss=None, logits=<tf.Tensor: shape=(1, 512, 12), dtype=float32, numpy=\n",
              "array([[[ 0.01687994,  0.14636461,  0.7667527 , ..., -0.25460392,\n",
              "          0.31042585,  1.019933  ],\n",
              "        [-0.0767982 , -0.02220569,  0.3001028 , ..., -0.4346045 ,\n",
              "          1.4045128 ,  0.98198974],\n",
              "        [-0.01298606, -0.18306173,  0.5996212 , ..., -0.59092927,\n",
              "          1.4468046 ,  1.0188121 ],\n",
              "        ...,\n",
              "        [-0.12430824, -0.06220959,  0.24200755, ..., -0.34921345,\n",
              "         -0.40322694,  1.4720432 ],\n",
              "        [-0.09719107,  0.0154809 ,  0.22171232, ..., -0.33212855,\n",
              "         -0.38453472,  1.4297428 ],\n",
              "        [-0.13453805, -0.01284953,  0.29306015, ..., -0.43980274,\n",
              "         -0.42486304,  1.5762407 ]]], dtype=float32)>, hidden_states=None, attentions=None)"
            ]
          },
          "execution_count": 37,
          "metadata": {},
          "output_type": "execute_result"
        }
      ],
      "source": [
        "model(inputs)"
      ]
    },
    {
      "cell_type": "code",
      "execution_count": null,
      "metadata": {
        "id": "be8A--ngI2lz"
      },
      "outputs": [],
      "source": [
        "pred_labels = []"
      ]
    },
    {
      "cell_type": "code",
      "execution_count": null,
      "metadata": {
        "id": "vrLCnsp1I2lz",
        "outputId": "bf4a7dee-8bad-4e93-dbc8-0fecf7060f3d"
      },
      "outputs": [
        {
          "name": "stdout",
          "output_type": "stream",
          "text": [
            "Collecting seqeval\n",
            "  Downloading seqeval-1.2.2.tar.gz (43 kB)\n",
            "\u001b[K     |████████████████████████████████| 43 kB 10.8 MB/s eta 0:00:01\n",
            "\u001b[?25hRequirement already satisfied: numpy>=1.14.0 in /usr/local/lib/python3.6/dist-packages (from seqeval) (1.18.4)\n",
            "Requirement already satisfied: scikit-learn>=0.21.3 in /usr/local/lib/python3.6/dist-packages (from seqeval) (0.24.2)\n",
            "Requirement already satisfied: threadpoolctl>=2.0.0 in /usr/local/lib/python3.6/dist-packages (from scikit-learn>=0.21.3->seqeval) (2.1.0)\n",
            "Requirement already satisfied: scipy>=0.19.1 in /usr/local/lib/python3.6/dist-packages (from scikit-learn>=0.21.3->seqeval) (1.4.1)\n",
            "Requirement already satisfied: joblib>=0.11 in /usr/local/lib/python3.6/dist-packages (from scikit-learn>=0.21.3->seqeval) (1.0.1)\n",
            "Building wheels for collected packages: seqeval\n",
            "  Building wheel for seqeval (setup.py) ... \u001b[?25ldone\n",
            "\u001b[?25h  Created wheel for seqeval: filename=seqeval-1.2.2-py3-none-any.whl size=17585 sha256=023e10d8198155b49258d98731d926a93f8edacf689c53ed9aeb18683e729a8f\n",
            "  Stored in directory: /root/.cache/pip/wheels/39/29/36/1c4f7905c133e11748ca375960154964082d4fb03478323089\n",
            "Successfully built seqeval\n",
            "Installing collected packages: seqeval\n",
            "Successfully installed seqeval-1.2.2\n",
            "\u001b[33mWARNING: You are using pip version 20.2.4; however, version 21.3.1 is available.\n",
            "You should consider upgrading via the '/usr/bin/python3 -m pip install --upgrade pip' command.\u001b[0m\n"
          ]
        }
      ],
      "source": [
        "!pip install seqeval"
      ]
    },
    {
      "cell_type": "code",
      "execution_count": null,
      "metadata": {
        "id": "gG9zTZGGI2lz",
        "outputId": "40802908-fed7-4209-ebaf-417292258436"
      },
      "outputs": [
        {
          "data": {
            "text/plain": [
              "(220, 512)"
            ]
          },
          "execution_count": 40,
          "metadata": {},
          "output_type": "execute_result"
        }
      ],
      "source": [
        "true_labels = [[id2tag.get(true_index, \"Empty\") for true_index in test['labels'][i]] for i in range(len(test['labels']))]\n",
        "np.array(true_labels).shape"
      ]
    },
    {
      "cell_type": "code",
      "execution_count": null,
      "metadata": {
        "id": "HJbU4Qw5I2lz"
      },
      "outputs": [],
      "source": [
        "output = model.predict(train_dataset)"
      ]
    },
    {
      "cell_type": "code",
      "execution_count": null,
      "metadata": {
        "id": "w5snzV3uI2l0"
      },
      "outputs": [],
      "source": [
        "predictions = np.argmax(output['logits'].reshape(220, -1, 12), axis=-1)"
      ]
    },
    {
      "cell_type": "code",
      "execution_count": null,
      "metadata": {
        "id": "JUhTSxXeI2l0",
        "outputId": "50b7831b-d16d-48a0-b115-4c5bba85c0ae"
      },
      "outputs": [
        {
          "data": {
            "text/plain": [
              "(220, 512)"
            ]
          },
          "execution_count": 43,
          "metadata": {},
          "output_type": "execute_result"
        }
      ],
      "source": [
        "predictions.shape"
      ]
    },
    {
      "cell_type": "code",
      "execution_count": null,
      "metadata": {
        "id": "Yv3dCWZmI2l0",
        "outputId": "a18aeba0-db62-4712-f4ca-6c0995bb3ac1"
      },
      "outputs": [
        {
          "data": {
            "image/png": "[encoded data removed]",
            "text/plain": [
              "<Figure size 432x288 with 1 Axes>"
            ]
          },
          "metadata": {
            "needs_background": "light"
          },
          "output_type": "display_data"
        }
      ],
      "source": [
        "from matplotlib import pyplot as plt\n",
        "\n",
        "p = plt.hist(np.array(true_labels).flatten())\n",
        "plt.xticks(rotation='vertical')\n",
        "plt.show()"
      ]
    },
    {
      "cell_type": "code",
      "execution_count": null,
      "metadata": {
        "id": "-rCAd6tvI2l0",
        "outputId": "a2d6cb90-ca84-410f-a23a-8269caa754d2"
      },
      "outputs": [
        {
          "data": {
            "text/plain": [
              "Counter({'Empty': 103155,\n",
              "         'Name': 1035,\n",
              "         'Designation': 1100,\n",
              "         'Email Address': 76,\n",
              "         'Companies worked at': 908,\n",
              "         'College Name': 792,\n",
              "         'Skills': 4704,\n",
              "         'Degree': 598,\n",
              "         'Graduation Year': 80,\n",
              "         'Location': 116,\n",
              "         'Years of Experience': 75,\n",
              "         'UNKNOWN': 1})"
            ]
          },
          "execution_count": 45,
          "metadata": {},
          "output_type": "execute_result"
        }
      ],
      "source": [
        "from collections import Counter\n",
        "Counter(np.array(true_labels).flatten())"
      ]
    },
    {
      "cell_type": "code",
      "execution_count": null,
      "metadata": {
        "id": "NanVJhI5I2l0",
        "outputId": "3ffee574-7efb-4ddd-bd6c-66d04d2c41d2"
      },
      "outputs": [
        {
          "data": {
            "image/png": "[encoded data removed]",
            "text/plain": [
              "<Figure size 432x288 with 1 Axes>"
            ]
          },
          "metadata": {
            "needs_background": "light"
          },
          "output_type": "display_data"
        }
      ],
      "source": [
        "pred_labels = [[id2tag.get(index, \"Empty\") for index in predictions[i]] for i in range(len(predictions))]\n",
        "p = plt.hist(np.array(pred_labels).flatten())\n",
        "plt.xticks(rotation='vertical')\n",
        "plt.show()"
      ]
    },
    {
      "cell_type": "code",
      "execution_count": null,
      "metadata": {
        "id": "gPx12ICzI2l1",
        "outputId": "e294f93b-ad32-4cc1-db7f-002d1439fbe0"
      },
      "outputs": [
        {
          "name": "stdout",
          "output_type": "stream",
          "text": [
            "                    precision    recall  f1-score   support\n",
            "\n",
            "            NKNOWN       0.00      0.00      0.00         1\n",
            "               ame       0.00      0.00      0.00       220\n",
            "ears of Experience       0.00      0.00      0.00        37\n",
            "             egree       0.00      0.00      0.00       144\n",
            "        esignation       0.00      0.00      0.00       430\n",
            "             kills       0.11      0.02      0.03      4704\n",
            "      mail Address       0.00      0.00      0.00        76\n",
            "              mpty       0.92      0.98      0.95    103155\n",
            "           ocation       0.00      0.00      0.00        73\n",
            "       ollege Name       0.00      0.00      0.00       214\n",
            "ompanies worked at       0.00      0.00      0.00       470\n",
            "    raduation Year       0.00      0.00      0.00        58\n",
            "\n",
            "         micro avg       0.90      0.92      0.91    109582\n",
            "         macro avg       0.09      0.08      0.08    109582\n",
            "      weighted avg       0.87      0.92      0.89    109582\n",
            "\n"
          ]
        }
      ],
      "source": [
        "from seqeval.metrics import classification_report\n",
        "print(classification_report(true_labels, pred_labels))"
      ]
    },
    {
      "cell_type": "code",
      "execution_count": null,
      "metadata": {
        "id": "ZksgqBCLI2l1"
      },
      "outputs": [],
      "source": [
        "from seqeval.metrics import f1_score, classification_report"
      ]
    },
    {
      "cell_type": "code",
      "execution_count": null,
      "metadata": {
        "id": "2-QajnduI2l1"
      },
      "outputs": [],
      "source": []
    }
  ],
  "metadata": {
    "kernelspec": {
      "display_name": "Python 3",
      "name": "python3"
    },
    "language_info": {
      "codemirror_mode": {
        "name": "ipython",
        "version": 3
      },
      "file_extension": ".py",
      "mimetype": "text/x-python",
      "name": "python",
      "nbconvert_exporter": "python",
      "pygments_lexer": "ipython3",
      "version": "3.6.9"
    },
    "colab": {
      "provenance": [],
      "gpuType": "T4"
    },
    "accelerator": "GPU"
  },
  "nbformat": 4,
  "nbformat_minor": 0
}